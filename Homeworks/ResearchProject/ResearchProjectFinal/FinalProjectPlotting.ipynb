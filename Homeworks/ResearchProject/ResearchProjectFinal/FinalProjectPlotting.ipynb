{
 "cells": [
  {
   "cell_type": "code",
   "execution_count": 8,
   "metadata": {},
   "outputs": [],
   "source": [
    "# import modules\n",
    "import numpy as np\n",
    "import astropy.units as u\n",
    "from astropy.constants import G\n",
    "\n",
    "# import plotting modules\n",
    "import matplotlib\n",
    "import matplotlib.pyplot as plt\n",
    "from matplotlib.colors import LogNorm\n",
    "from mpl_toolkits.mplot3d import Axes3D\n",
    "%matplotlib inline"
   ]
  },
  {
   "cell_type": "code",
   "execution_count": 9,
   "metadata": {},
   "outputs": [],
   "source": [
    "MW = np.genfromtxt('MW_Outliers250to450.txt')"
   ]
  },
  {
   "cell_type": "code",
   "execution_count": 10,
   "metadata": {},
   "outputs": [],
   "source": [
    "# Get snapids and masses\n",
    "\n",
    "snid = np.array(MW[:,0])\n",
    "masses = np.array(MW[:,1])\n",
    "\n",
    "# Determine positions of disk particles relative to COM \n",
    "xD = np.array(MW[:,2])\n",
    "yD = np.array(MW[:,3])\n",
    "zD = np.array(MW[:,4])\n",
    "\n",
    "# total magnitude\n",
    "#rtot = np.sqrt(xD**2 + yD**2 + zD**2)\n",
    "#print(rtot)\n",
    "# Determine velocities of disk particles relatiev to COM motion\n",
    "vxD = MW[:,5]\n",
    "vyD = MW[:,6] \n",
    "vzD = MW[:,7] \n",
    "\n",
    "# pull the values by snapshot, graph\n",
    "        \n",
    "\n",
    "# total velocity \n",
    "#vtot = np.sqrt(vxD**2 + vyD**2 + vzD**2)\n",
    "\n",
    "# Vectors for r and v \n",
    "#r = np.array([xD,yD,zD]).T # transposed \n",
    "#v = np.array([vxD,vyD,vzD]).T"
   ]
  },
  {
   "cell_type": "code",
   "execution_count": 11,
   "metadata": {},
   "outputs": [
    {
     "data": {
      "text/plain": [
       "<Figure size 720x720 with 0 Axes>"
      ]
     },
     "metadata": {},
     "output_type": "display_data"
    },
    {
     "data": {
      "text/plain": [
       "<Figure size 720x720 with 0 Axes>"
      ]
     },
     "metadata": {},
     "output_type": "display_data"
    },
    {
     "data": {
      "text/plain": [
       "<Figure size 720x720 with 0 Axes>"
      ]
     },
     "metadata": {},
     "output_type": "display_data"
    },
    {
     "data": {
      "text/plain": [
       "<Figure size 720x720 with 0 Axes>"
      ]
     },
     "metadata": {},
     "output_type": "display_data"
    },
    {
     "data": {
      "text/plain": [
       "<Figure size 720x720 with 0 Axes>"
      ]
     },
     "metadata": {},
     "output_type": "display_data"
    },
    {
     "data": {
      "text/plain": [
       "<Figure size 720x720 with 0 Axes>"
      ]
     },
     "metadata": {},
     "output_type": "display_data"
    },
    {
     "data": {
      "text/plain": [
       "<Figure size 720x720 with 0 Axes>"
      ]
     },
     "metadata": {},
     "output_type": "display_data"
    },
    {
     "data": {
      "text/plain": [
       "<Figure size 720x720 with 0 Axes>"
      ]
     },
     "metadata": {},
     "output_type": "display_data"
    },
    {
     "data": {
      "text/plain": [
       "<Figure size 720x720 with 0 Axes>"
      ]
     },
     "metadata": {},
     "output_type": "display_data"
    },
    {
     "data": {
      "text/plain": [
       "<Figure size 720x720 with 0 Axes>"
      ]
     },
     "metadata": {},
     "output_type": "display_data"
    },
    {
     "data": {
      "text/plain": [
       "<Figure size 720x720 with 0 Axes>"
      ]
     },
     "metadata": {},
     "output_type": "display_data"
    },
    {
     "data": {
      "text/plain": [
       "<Figure size 720x720 with 0 Axes>"
      ]
     },
     "metadata": {},
     "output_type": "display_data"
    },
    {
     "data": {
      "text/plain": [
       "<Figure size 720x720 with 0 Axes>"
      ]
     },
     "metadata": {},
     "output_type": "display_data"
    },
    {
     "data": {
      "text/plain": [
       "<Figure size 720x720 with 0 Axes>"
      ]
     },
     "metadata": {},
     "output_type": "display_data"
    },
    {
     "data": {
      "text/plain": [
       "<Figure size 720x720 with 0 Axes>"
      ]
     },
     "metadata": {},
     "output_type": "display_data"
    },
    {
     "data": {
      "text/plain": [
       "<Figure size 720x720 with 0 Axes>"
      ]
     },
     "metadata": {},
     "output_type": "display_data"
    }
   ],
   "source": [
    "# 1) Make plots \n",
    "\n",
    "# Initialize an array to store mass lost\n",
    "# get unique snap value ids\n",
    "Snap = np.unique(snid)\n",
    "MassLost = np.zeros(len(Snap))\n",
    "for i in range(len(Snap)):\n",
    "    # go through each snapid and graph the particles at that snapid\n",
    "    index = np.where(snid == Snap[i])\n",
    "    xDnew = xD[index]\n",
    "    yDnew = yD[index]\n",
    "    zDnew = zD[index]\n",
    "    \n",
    "    # get the total mass outside the jacobi radius at that snapid\n",
    "    MassLost[i] = np.sum(masses[index])\n",
    "    fig, ax= plt.subplots(figsize=(10, 10))\n",
    "    # ADD HERE\n",
    "    # plot the particle density for M31 using a 2D historgram\n",
    "    # plt.hist2D(pos1,pos2, bins=, norm=LogNorm), cmap= )\n",
    "    # cmap options: https://matplotlib.org/3.1.0/tutorials/colors/colormaps.html  \n",
    "    #   e.g. magma, viridis\n",
    "    # can modify bin number to make the plot smoother\n",
    "    plt.hist2d(xDnew,yDnew,bins=200, norm = LogNorm(),cmap = 'nipy_spectral', cmin = 0)\n",
    "    plt.colorbar()\n",
    "    # Add axis labels\n",
    "    plt.xlabel('x in kpc', fontsize=22)\n",
    "    plt.ylabel('y in kpc', fontsize=22)\n",
    "        \n",
    "    #set axis limits\n",
    "    plt.ylim(-200,200)\n",
    "    plt.xlim(-200,200)\n",
    "    label_size = 22\n",
    "    matplotlib.rcParams['xtick.labelsize'] = label_size \n",
    "    matplotlib.rcParams['ytick.labelsize'] = label_size\n",
    "    \n",
    "    # Save to a file\n",
    "    title = \"MW at Snapshot %d\"%Snap[i] \n",
    "    plt.title(title)\n",
    "    savetitle = \"MWat%d\"%Snap[i] \n",
    "    plt.savefig(savetitle, rasterized=True, dpi=350)\n",
    "        \n",
    "    plt.clf()"
   ]
  },
  {
   "cell_type": "code",
   "execution_count": 12,
   "metadata": {},
   "outputs": [
    {
     "data": {
      "image/png": "[encoded data removed]",
      "text/plain": [
       "<Figure size 720x720 with 1 Axes>"
      ]
     },
     "metadata": {
      "needs_background": "light"
     },
     "output_type": "display_data"
    }
   ],
   "source": [
    "fig, ax= plt.subplots(figsize=(10, 10))\n",
    "\n",
    "plt.plot(Snap,MassLost,\"r\")\n",
    "plt.axvline(x=280, label = 'Snap ID= 390')\n",
    "plt.legend()\n",
    "plt.title(\"Mass Lost v. SnapID\", fontsize=24)\n",
    "plt.ylim(0,0.25)\n",
    "plt.xlabel('Snap ID', fontsize=22)\n",
    "plt.ylabel('Mass Lost from M31 in Msun*1e10', fontsize=22)\n",
    "plt.savefig('MW_Mass_Lost', rasterized=True, dpi=350)"
   ]
  },
  {
   "cell_type": "code",
   "execution_count": 6,
   "metadata": {},
   "outputs": [
    {
     "name": "stdout",
     "output_type": "stream",
     "text": [
      "[270. 280. 340. 350. 360. 370. 380. 390. 400. 410. 420. 430. 440. 450.]\n",
      "[1.70000e-02 1.73000e-01 2.00000e-03 8.00000e-03 1.80000e-02 2.20000e-02\n",
      " 4.10000e-02 4.90000e-02 7.00000e-01 1.16417e+02 4.06400e+00 5.40300e+01\n",
      " 1.50643e+02 1.62618e+02]\n"
     ]
    }
   ],
   "source": [
    "print(Snap)\n",
    "print(MassLost)"
   ]
  },
  {
   "cell_type": "code",
   "execution_count": null,
   "metadata": {},
   "outputs": [],
   "source": []
  }
 ],
 "metadata": {
  "kernelspec": {
   "display_name": "Python 3",
   "language": "python",
   "name": "python3"
  },
  "language_info": {
   "codemirror_mode": {
    "name": "ipython",
    "version": 3
   },
   "file_extension": ".py",
   "mimetype": "text/x-python",
   "name": "python",
   "nbconvert_exporter": "python",
   "pygments_lexer": "ipython3",
   "version": "3.7.4"
  }
 },
 "nbformat": 4,
 "nbformat_minor": 2
}
