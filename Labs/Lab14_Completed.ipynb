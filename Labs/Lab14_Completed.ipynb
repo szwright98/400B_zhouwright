{
 "cells": [
  {
   "cell_type": "markdown",
   "metadata": {
    "collapsed": true
   },
   "source": [
    "# In Class Lab 14 Template\n",
    "# Cosmological Tools\n",
    "\n",
    "In this lab we will build on the Class called `CosmologicalTools` that we developed as part of Lab 12 and 13. \n",
    "\n",
    "For Lab 14 we will create a function to understand the temperature evolution of the universe and the horizon distance. "
   ]
  },
  {
   "cell_type": "code",
   "execution_count": 3,
   "metadata": {},
   "outputs": [],
   "source": [
    "# import modules\n",
    "import numpy as np\n",
    "import astropy.units as u\n",
    "\n",
    "# For Lab 12: Import the constant for the speed of light\n",
    "from astropy.constants import c\n",
    "# For Lab 14: Import the boltzmann constant\n",
    "from astropy.constants import k_B \n",
    "\n",
    "# import plotting modules\n",
    "import matplotlib.pyplot as plt\n",
    "import matplotlib\n",
    "%matplotlib inline\n",
    "\n",
    "\n",
    "# Lab 12 : added\n",
    "# integrating tools from SciPy  \n",
    "from scipy.integrate import simps\n"
   ]
  },
  {
   "cell_type": "code",
   "execution_count": 5,
   "metadata": {},
   "outputs": [
    {
     "data": {
      "text/latex": [
       "$1.3806485 \\times 10^{-23} \\; \\mathrm{\\frac{J}{K}}$"
      ],
      "text/plain": [
       "<<class 'astropy.constants.codata2014.CODATA2014'> name='Boltzmann constant' value=1.38064852e-23 uncertainty=7.9e-30 unit='J / K' reference='CODATA 2014'>"
      ]
     },
     "execution_count": 5,
     "metadata": {},
     "output_type": "execute_result"
    }
   ],
   "source": [
    "k_B"
   ]
  },
  {
   "cell_type": "code",
   "execution_count": 7,
   "metadata": {},
   "outputs": [
    {
     "data": {
      "text/latex": [
       "$8.6173303 \\times 10^{-5} \\; \\mathrm{\\frac{eV}{K}}$"
      ],
      "text/plain": [
       "<Quantity 8.61733034e-05 eV / K>"
      ]
     },
     "execution_count": 7,
     "metadata": {},
     "output_type": "execute_result"
    }
   ],
   "source": [
    "k_B_ev = k_B.to(u.electronvolt/u.K)\n",
    "k_B_ev"
   ]
  },
  {
   "cell_type": "code",
   "execution_count": 8,
   "metadata": {},
   "outputs": [],
   "source": [
    "# Define the benchmark cosmology at z =0\n",
    "# Planck 2016 results. XIII. Cosmological parameters   \n",
    "# Planck Collaboration+2016 A&A 594 13  Table 4, column 2 \n",
    "\n",
    "OmegaM0_planck = 0.308   # Matter Density Parameter\n",
    "OmegaR0_planck = 8.24e-5  # Radiation Density Parameter\n",
    "OmegaL0_planck = 0.692  # Dark Energy Density Parameter\n",
    "h_planck = 0.6781   # Hubble Constant  100 h km/s/Mpc\n",
    "        "
   ]
  },
  {
   "cell_type": "code",
   "execution_count": 32,
   "metadata": {},
   "outputs": [],
   "source": [
    "class CosmologicalTools:\n",
    "    # Define a class that provides functions to compute various cosmological quantities\n",
    "    # for a given cosmology  \n",
    "        \n",
    "    def __init__(self, OmegaM0, OmegaR0, OmegaL0, h):\n",
    "        # initialize the instance of the class - for any given Cosmology\n",
    "        # Input:    Omega M matter density parameter at z=0\n",
    "        #           Omega R radiation density parameter at z=0\n",
    "        #           Omega L  dark energy density parameter at z=0\n",
    "        #           h  normalization for the hubble parameter at z=0\n",
    "        \n",
    "        # initialize the cosmology at z=0\n",
    "        self.OmegaM0 = OmegaM0    ### Matter Density Parameter\n",
    "        self.OmegaR0 = OmegaR0    ### Radiation Density Parameter\n",
    "        self.OmegaL0 = OmegaL0    ### Dark Energy Density Parameter\n",
    "        self.OmegaK0 = 1 - (OmegaM0 + OmegaR0 + OmegaL0)    #### Curvature Density Parameter\n",
    "    \n",
    "        self.h = h   # Normalization of Hubble Parameter   \n",
    "        self.Ho = h*100*u.km/u.s/u.Mpc #  Hubble Constant at z=0  100 h km/s/Mpc\n",
    "    \n",
    "    \n",
    "    # Question 1 A)\n",
    "    def HubbleParameter(self, z):\n",
    "        # Function that defines the Hubble Parameter as a function of redshift\n",
    "        # Input:   Redshift z \n",
    "        # Returns: The Hubble parameter at the given redshift in units of km/s/Mpc        \n",
    "        \n",
    "        # FILL THIS IN \n",
    "        M = self.OmegaM0*(1+z)**3\n",
    "        R = self.OmegaR0*(1+z)**4\n",
    "        L = self.OmegaL0\n",
    "        K = self.OmegaK0*(1+z)**2\n",
    "        \n",
    "        return  self.Ho*np.sqrt(M+R+L+K)\n",
    "    \n",
    "    \n",
    "    \n",
    "    # Question 2 A)\n",
    "    def OmegaM_Z(self,z):\n",
    "        # Function that defines the matter density parameter as a function of redshift\n",
    "        # Input:  Redshift z . Can be an array\n",
    "        # Output:  Matter Density Parameter at the given redshift.\n",
    "        \n",
    "        # FILL THIS IN\n",
    "        return self.OmegaM0*(1+z)**3*self.Ho**2/self.HubbleParameter(z)**2\n",
    "    \n",
    "    def OmegaR_Z(self,z):\n",
    "        # Function that defines the radiation density parameter as a function of redshift\n",
    "        # Input:  Redshift z . Can be an array\n",
    "        # Output:  Radiation Density Parameter at the given redshift.\n",
    "        \n",
    "        # FILL THIS IN\n",
    "        return self.OmegaR0*(1+z)**4*self.Ho**2/self.HubbleParameter(z)**2\n",
    "    \n",
    "    \n",
    "    def OmegaL_Z(self,z):\n",
    "        # Function that defines the dark energy density parameter as a function of redshift\n",
    "        # Input:  Redshift z . Can be an array\n",
    "        # Output:  Dark Energy Density Parameter at the given redshift.\n",
    "        \n",
    "        # FILL THIS IN\n",
    "        return self.OmegaL0*self.Ho**2/self.HubbleParameter(z)**2\n",
    "    \n",
    "    \n",
    " \n",
    "    \n",
    "    # Question 1 A) \n",
    "    \n",
    "    def LookBackTime(self, ze):\n",
    "    # Function that computes the look back time at a given redshift\n",
    "    # i.e. the difference in time from when a photon was emitted to when it is observed at present day.\n",
    "    # Input:    Redshift emitted (ze). This cannot be an array. \n",
    "    # Output:   Time in units of Gyr Ago  (relative to present day). This is not an arrat    \n",
    "    \n",
    "        # Observed redshift  \n",
    "        zo = 0\n",
    "    \n",
    "        # define an array with redshifts, spaced in intervals of 0.001 from zo to ze\n",
    "        zrange = np.arange(zo, ze, 1e-3)\n",
    "        \n",
    "        # y = (1/H(zrange)).to(GYR)  /  (1+zrange)\n",
    "        # But need to correct units of 1/H to be Gyr rather than seconds  \n",
    "        # use the astropy.units functionality .to(units)\n",
    "        # FILL THIS IN \n",
    "        y = (1.0/self.HubbleParameter(zrange)).to(u.Gyr)/(1+zrange)  \n",
    "        \n",
    "        # Integrate y numerically over zrange and return in units of Gyr\n",
    "        # FILL THIS IN \n",
    "        return simps(y,zrange)*u.Gyr\n",
    "    \n",
    "    \n",
    "    # Question 2 A) \n",
    "    \n",
    "    def ComovingDistance(self, ze):\n",
    "    # Function that returns the Comoving Radial Distance to an object at a given redshift\n",
    "    # Distance to a galaxy that is moving with the Hubble Flow (expanding universe) at a given redshift\n",
    "    # Input:    Redshift observed (zo) \n",
    "    #           Redshift emitted (ze)\n",
    "    # Output:   DC in Mpc\n",
    "\n",
    "        zo = 0\n",
    "    \n",
    "        # define an array with redshifts, spaced  in intervals of 0.001\n",
    "        # Note that if you want redshifts smaller than 0.001 you'll need to refine this\n",
    "        zrange = np.arange(zo,ze, 1e-3)\n",
    "    \n",
    "        # 1/H(zrange)*speed of light\n",
    "        # Speed of light is loaded in modules from astropy, but in units of m/s --> need in km/s\n",
    "        # FILL THIS IN\n",
    "        y = c.to(u.km/u.s)*(1.0/self.HubbleParameter(zrange))\n",
    "    \n",
    "        # Integrate y numerically over zrange and return in units of Mpc\n",
    "        # FILL THIS IN \n",
    "        return simps(y,zrange)*u.Mpc\n",
    "    \n",
    "    \n",
    "    # Question 2 D) \n",
    "    \n",
    "    def ProperDistance(self, zo, ze):\n",
    "    # Function that returns the Proper Distance \n",
    "    # of an comoving distance measured today, at a given redshift (the distance measured by a ruler)\n",
    "    # Input:    Redshift observed (zo) \n",
    "    #           Redshift of object (ze)\n",
    "    # Output:   Proper Distance in Mpc\n",
    "    \n",
    "        # Comoving Distance (to emitted photon) [ independent of time] x the scale factor \n",
    "        # at the time of observation.\n",
    "        return self.ComovingDistance(ze)/(1+zo)\n",
    "\n",
    " \n",
    "    # Question 3 A)\n",
    "    \n",
    "    def LuminosityDistance(self, ze): \n",
    "    # Function that computes DL, the luminosity distance of a galaxy at a given redshift\n",
    "    # Input:    Redshift emitted (ze) \n",
    "    # Output:   DL  in Mpc\n",
    "        # this is an observable so\n",
    "        zo = 0\n",
    "        # Return  DL = DC*(1+z)\n",
    "        return self.ComovingDistance(ze)*(1+ze)\n",
    "    \n",
    "\n",
    "    # Question 4 A)\n",
    "    \n",
    "    def AngularDiameterDistance(self, ze): \n",
    "    # Function that computes DA, the angular diameter distance at a given redshift\n",
    "    # This is the proper distance between us and the source, at the time the photons were emitted.\n",
    "    # Physical size of angular separation of 1 degree\n",
    "    # Input:   Redshift emitted (ze)\n",
    "    # Output:   DA  in Mpc\n",
    "    \n",
    "        \n",
    "        # this is an observable so\n",
    "        zo = 0\n",
    "        \n",
    "        # # FILL THIS IN\n",
    "        # DA = DC/(1+z_emitted) = DL/(1+z)**2\n",
    "        return self.ComovingDistance(ze)/(1+ze)     \n",
    "    \n",
    "    \n",
    "    # Question 4 B) \n",
    "    \n",
    "    def Separation(self, ze, angle):\n",
    "    # Function to compute the physical distance corresponding to an angular separation at a given redshift\n",
    "    # Input:    Redshift emmitted ze ,  \n",
    "    #           angle: Angle between galaxies in arcsec\n",
    "    # Output:  Distance in kpc\n",
    "    \n",
    "        # convert angle from arcsec to radians\n",
    "        #    FILL THIS IN\n",
    "        angleRad = (angle*u.arcsec).to(u.rad)\n",
    "    \n",
    "         # FILL THIS IN\n",
    "        #   DA*angleRad\n",
    "        return (self.AngularDiameterDistance(ze)*angleRad/u.rad).to(u.kpc)\n",
    "    \n",
    "    \n",
    "\n",
    "    ################\n",
    "    ## Lab 14  Starts here\n",
    "    ################\n",
    "    \n",
    "    # Q1\n",
    "    def Temperature(self, z):\n",
    "        # function that returns the temperature of the universe as a function of redshift\n",
    "        #Input: Redshift of interest\n",
    "        # Returns: Temperature in K\n",
    "        To = 2.7\n",
    "        \n",
    "        # Fill this in \n",
    "        # To(1+z)\n",
    "        return To*(1+z)\n",
    "    \n",
    "    \n",
    "    \n",
    "    \n",
    "    # Q2 \n",
    "    # \n",
    "    ## Fill this in \n",
    "    def HorizonDistance(self, zo):\n",
    "        # Compute the proper distance to the horizon at a given redshift\n",
    "        # DC(zo,ze)/(1+zo)\n",
    "        # input: Redshift of the observer\n",
    "        # Returns the proper distance (Mpc)\n",
    "        \n",
    "        # define an array with redshifts, spaced  in intervals of 0.001\n",
    "        # Note that if you want redshifts smaller than 0.001 you'll need to refine this\n",
    "        zrange = np.arange(zo, 5000, 1e-3)\n",
    "    \n",
    "        # 1/H(zrange)*speed of light\n",
    "        # Speed of light is loaded in modules from astropy, but in units of m/s --> need in km/s\n",
    "        # FILL THIS IN\n",
    "        y = 1/self.HubbleParameter(zrange)*c.to(u.km/u.s)\n",
    "    \n",
    "        # Integrate y numerically over zrange and return in units of Mpc\n",
    "        # FILL THIS IN \n",
    "        Comoving = simps(y,zrange) * u.Mpc\n",
    "        \n",
    "        # Proper distance Comoving/(1+z)\n",
    "        return Comoving/(1+zo)\n",
    "\n",
    "    \n",
    "    # Q3 \n",
    "    ## Fill this in \n",
    "    def SoundHorizon(self,zdecouple):\n",
    "        # The Maximal distance that sound can travel since the beginning of the universe to the time of \n",
    "        # decoupling\n",
    "        # DC(zdecouple, zinfty)*speed of sound\n",
    "        # Input:  Redshift of decoupling\n",
    "        # Returns: Distance of Sound Horizon in Mpc\n",
    "        \n",
    "        # HorizonDistance/(1+z)\n",
    "        return self.HorizonDistance(zdecouple)/np.sqrt(3)\n",
    "    "
   ]
  },
  {
   "cell_type": "code",
   "execution_count": 33,
   "metadata": {},
   "outputs": [],
   "source": [
    "# Define here an instance of the Class Cosmological Tools that follows the Benchmark Cosmology\n",
    "\n",
    "BenchMark = CosmologicalTools(OmegaM0_planck, OmegaR0_planck, OmegaL0_planck, h_planck)\n"
   ]
  },
  {
   "cell_type": "markdown",
   "metadata": {},
   "source": [
    "# Question 1\n",
    "\n",
    "Complete the function `Temperature` to examine the Evolution of the average temperature of the universe as a function of time. \n",
    "\n",
    "$T(z) = T_o(1+z)$ \n",
    "\n",
    "Where $T_o = 2.7$K, the black body temperature that describes the CMB\n",
    "\n",
    "- What is the temperature needed to ionize a hydrogen atom (13.6eV). \n",
    "- How does this temperature compare to the temperature at photon-electron decoupling era (Z = 1100)"
   ]
  },
  {
   "cell_type": "code",
   "execution_count": 12,
   "metadata": {},
   "outputs": [
    {
     "data": {
      "text/latex": [
       "$52607.167 \\; \\mathrm{K}$"
      ],
      "text/plain": [
       "<Quantity 52607.16667382 K>"
      ]
     },
     "execution_count": 12,
     "metadata": {},
     "output_type": "execute_result"
    }
   ],
   "source": [
    "# E = 3kBT\n",
    "\n",
    "T = 13.6 *u.electronvolt/3/k_B_ev\n",
    "T"
   ]
  },
  {
   "cell_type": "code",
   "execution_count": 13,
   "metadata": {},
   "outputs": [],
   "source": [
    "# redshift of Photon Decoupling\n",
    "zDecoupling = 1100"
   ]
  },
  {
   "cell_type": "code",
   "execution_count": 14,
   "metadata": {},
   "outputs": [
    {
     "data": {
      "text/plain": [
       "2972.7000000000003"
      ]
     },
     "execution_count": 14,
     "metadata": {},
     "output_type": "execute_result"
    }
   ],
   "source": [
    "# Temperature at z = 1100\n",
    "BenchMark.Temperature(zDecoupling)"
   ]
  },
  {
   "cell_type": "code",
   "execution_count": 16,
   "metadata": {},
   "outputs": [
    {
     "data": {
      "text/plain": [
       "54002.700000000004"
      ]
     },
     "execution_count": 16,
     "metadata": {},
     "output_type": "execute_result"
    }
   ],
   "source": [
    "BenchMark.Temperature(20000)"
   ]
  },
  {
   "cell_type": "code",
   "execution_count": null,
   "metadata": {},
   "outputs": [],
   "source": [
    "# Redshift where it should have happened! \n"
   ]
  },
  {
   "cell_type": "code",
   "execution_count": 15,
   "metadata": {},
   "outputs": [
    {
     "data": {
      "image/png": "[encoded data removed]",
      "text/plain": [
       "<Figure size 720x720 with 1 Axes>"
      ]
     },
     "metadata": {
      "needs_background": "light"
     },
     "output_type": "display_data"
    }
   ],
   "source": [
    "# Plot the Temperature Evolution as a Function of Redshift\n",
    "###############################################################################\n",
    "\n",
    "zmax = 1000\n",
    "zmin = 0.001\n",
    "zrange = np.arange(zmin, zmax, 0.5) \n",
    "\n",
    "\n",
    "fig = plt.figure(figsize=(10,10))\n",
    "ax = plt.subplot(111)\n",
    "\n",
    "\n",
    "# Comoving Distance\n",
    "# FILL THIS IN\n",
    "plt.semilogy(zrange +1,BenchMark.Temperature(zrange) , linewidth=5, label='BenchMark')\n",
    "\n",
    "\n",
    "# Add axis labels\n",
    "plt.xlabel('1+z', fontsize=22)\n",
    "plt.ylabel('Temperature (K)', fontsize=22)\n",
    "\n",
    "\n",
    "#adjust tick label font size\n",
    "label_size = 22\n",
    "matplotlib.rcParams['xtick.labelsize'] = label_size \n",
    "matplotlib.rcParams['ytick.labelsize'] = label_size\n",
    "\n",
    "legend = ax.legend(loc='upper left',fontsize=20)\n",
    "\n",
    "# Save to a file\n",
    "ax.set_rasterized(True)\n",
    "plt.savefig('Temperature.png', rasterized=True, dpi=350)"
   ]
  },
  {
   "cell_type": "markdown",
   "metadata": {},
   "source": [
    "# Question 2\n",
    "\n",
    "Define the horizon distance. \n",
    "\n",
    "Complete the function  ``HorizonDistance`` that takes as input: the redshift when the photon was observed and the redshift when the photon was emitted.  The function returns the Comoving Radial Distance from an observer at z=z_o, $D_C(z)$, by numerically integrating the below: \n",
    "\n",
    "$D_C(z0,ze) = c \\int_{z_0}^{z_e} \\frac{dz'}{H(z')}$\n",
    "\n",
    "Where $c$ is the speed of light.  Where  $z_0$= zObs is the redshift of the observer, $z_e$ is the redshift of the horizon (say $z_e$ = 5000).  \n",
    "\n",
    "And then translating this to proper distance:\n",
    "\n",
    "$d_{horizon}$ = D$_C$(zObs,5000)/(1+zObs)\n",
    " \n",
    "\n"
   ]
  },
  {
   "cell_type": "code",
   "execution_count": 22,
   "metadata": {},
   "outputs": [
    {
     "data": {
      "text/latex": [
       "$0.18332163 \\; \\mathrm{Mpc}$"
      ],
      "text/plain": [
       "<Quantity 0.18332163 Mpc>"
      ]
     },
     "execution_count": 22,
     "metadata": {},
     "output_type": "execute_result"
    }
   ],
   "source": [
    "# Horizon distance at that scale in the benchmark cosmology\n",
    "\n",
    "# ProperDistance(zobs, zemitted), where we are an observed at zDecoupling\n",
    "Horizon = BenchMark.HorizonDistance(zDecoupling)\n",
    "Horizon"
   ]
  },
  {
   "cell_type": "code",
   "execution_count": 26,
   "metadata": {},
   "outputs": [
    {
     "data": {
      "text/latex": [
       "$12.637146 \\; \\mathrm{Mpc}$"
      ],
      "text/plain": [
       "<Quantity 12.6371462 Mpc>"
      ]
     },
     "execution_count": 26,
     "metadata": {},
     "output_type": "execute_result"
    }
   ],
   "source": [
    "# Angular Diameter distance to  z = 1100 \n",
    "AngularDiameter_zDecouple = BenchMark.AngularDiameterDistance(zDecoupling)\n",
    "AngularDiameter_zDecouple"
   ]
  },
  {
   "cell_type": "code",
   "execution_count": 28,
   "metadata": {},
   "outputs": [
    {
     "data": {
      "text/latex": [
       "$1.6623303 \\; \\mathrm{}$"
      ],
      "text/plain": [
       "<Quantity 1.66233031>"
      ]
     },
     "execution_count": 28,
     "metadata": {},
     "output_type": "execute_result"
    }
   ],
   "source": [
    "# Angular Scale of the Causally Connected region:  Angle the horizon would subtend on the sky. \n",
    "# Theta = Size / Distance = Horizon*2 / Angular Diameter Distance  \n",
    "Theta = 2*Horizon/AngularDiameter_zDecouple*u.radian.to(u.degree)\n",
    "Theta"
   ]
  },
  {
   "cell_type": "markdown",
   "metadata": {},
   "source": [
    "# Question 3 A\n",
    "\n",
    "What is the sound horizon at the time of photon-electron decoupling?\n",
    "\n",
    "Complete the function `SoundHorizon`, which is similar to the horizon distance except the relevant speed is the speed of sound in a photon-electron fluid \n",
    "\n",
    "$c_s$ = c/sqrt(3)\n",
    "\n",
    "Sound Horizon = $ \\frac{c_s}{1+z_e} \\int_{z_d}^{z_e} \\frac{dz'}{H(z')}$\n",
    "\n",
    "  Where  $z_d$= zDecoupling is the redshift at decoupling, $z_e$ is the redshift of the horizon (say $z_e$ = 5000).  \n"
   ]
  },
  {
   "cell_type": "code",
   "execution_count": 34,
   "metadata": {},
   "outputs": [
    {
     "data": {
      "text/latex": [
       "$0.10584079 \\; \\mathrm{Mpc}$"
      ],
      "text/plain": [
       "<Quantity 0.10584079 Mpc>"
      ]
     },
     "execution_count": 34,
     "metadata": {},
     "output_type": "execute_result"
    }
   ],
   "source": [
    "# Sound Horizon  \n",
    "Sound = BenchMark.SoundHorizon(zDecoupling)\n",
    "Sound"
   ]
  },
  {
   "cell_type": "markdown",
   "metadata": {},
   "source": [
    "# Question 3 B\n",
    "\n",
    "What is the angular size subtended by the Sound Horizon Diameter?\n",
    "\n",
    "Theta = Sound Horizon Diameter/ Angular Diameter Distance"
   ]
  },
  {
   "cell_type": "code",
   "execution_count": 35,
   "metadata": {},
   "outputs": [],
   "source": [
    "# Angle subtended \n",
    "ThetaSound = Sound*2/BenchMark.AngularDiameterDistance(zDecoupling)*u.radian.to(u.degree)"
   ]
  },
  {
   "cell_type": "code",
   "execution_count": 36,
   "metadata": {},
   "outputs": [
    {
     "data": {
      "text/latex": [
       "$0.95974685 \\; \\mathrm{}$"
      ],
      "text/plain": [
       "<Quantity 0.95974685>"
      ]
     },
     "execution_count": 36,
     "metadata": {},
     "output_type": "execute_result"
    }
   ],
   "source": [
    "ThetaSound"
   ]
  },
  {
   "cell_type": "code",
   "execution_count": null,
   "metadata": {},
   "outputs": [],
   "source": []
  }
 ],
 "metadata": {
  "kernelspec": {
   "display_name": "Python 3",
   "language": "python",
   "name": "python3"
  },
  "language_info": {
   "codemirror_mode": {
    "name": "ipython",
    "version": 3
   },
   "file_extension": ".py",
   "mimetype": "text/x-python",
   "name": "python",
   "nbconvert_exporter": "python",
   "pygments_lexer": "ipython3",
   "version": "3.7.4"
  }
 },
 "nbformat": 4,
 "nbformat_minor": 2
}
