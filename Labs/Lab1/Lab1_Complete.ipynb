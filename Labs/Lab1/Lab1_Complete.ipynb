{
 "cells": [
  {
   "cell_type": "markdown",
   "metadata": {},
   "source": [
    "# In Class Lab 1\n",
    "\n",
    "## Part A:  The Local Standard of Rest\n",
    "Proper motion of Sgr A* from Reid & Brunthaler 2004\n",
    "$\\mu = 6.379$ mas/yr \n",
    "\n",
    "Peculiar motion of the sun, $v_\\odot$ = 12.24 km/s  (Schonrich 2010)\n",
    "\n",
    "\n",
    "$v_{tan} = 4.74 \\frac{\\mu}{\\rm mas/yr} \\frac{R_o}{\\rm kpc} = V_{LSR} + v_\\odot$\n",
    "\n",
    "\n",
    "### a)\n",
    "\n",
    "Create a function called VLSR to compute the local standard of res (V$_{LSR}$).\n",
    "\n",
    "The function should take as input: the solar radius (R$_o$), the proper motion (mu)\n",
    "and the peculiar motion of the sun in the $v_\\odot$ direction.\n",
    "\n",
    "Compute V$_{LSR}$ using three different values R$_o$: \n",
    "1. Water Maser Distance for the Sun :  R$_o$ = 8.34 kpc   (Reid 2014 ApJ 783) \n",
    "2. GRAVITY Collaboration Distance for the Sun:  R$_o$ = 8.178 kpc   (Abuter+2019 A&A 625)\n",
    "3. Value for Distance to Sun listed in Sparke & Gallagher : R$_o$ = 7.9 kpc \n"
   ]
  },
  {
   "cell_type": "code",
   "execution_count": 16,
   "metadata": {},
   "outputs": [],
   "source": [
    "import numpy as np\n",
    "from astropy import units as u\n",
    "\n",
    "#Function to compute the local standard of rest velocity\n",
    "#4.74*mu*Ro - vpec = VLSR\n",
    "def VLSR(Ro, mu=6.379, vpec=12.24):\n",
    "    #inputs: Ro distance from sun ot galactic center in kpc \n",
    "    #mu proper motion of Sag A* in mas per year(Reid & Brunthaler 2004)\n",
    "    #vpec is peculiar motion of sun in km/s (Schonrich 2010)\n",
    "    #Returns vlsr, the local standard of rest velocity\n",
    "    vslr =4.74*mu*Ro - vpec\n",
    "    return vslr\n"
   ]
  },
  {
   "cell_type": "code",
   "execution_count": 17,
   "metadata": {},
   "outputs": [],
   "source": [
    "#distance to galactic center from Reid 2014 \n",
    "RoReid = 8.34 \n",
    "#distance to gal center from GRAVITY collab. Abuter+2019 A&A 625\n",
    "RoGRAV = 8.178\n",
    "#distance from Spark & Gallagher\n",
    "RoSG = 7.9 "
   ]
  },
  {
   "cell_type": "code",
   "execution_count": 18,
   "metadata": {},
   "outputs": [
    {
     "data": {
      "text/plain": [
       "239.9320764"
      ]
     },
     "execution_count": 18,
     "metadata": {},
     "output_type": "execute_result"
    }
   ],
   "source": [
    "#Compute VLSR using Reid 2014 value for Ro\n",
    "VLSR(RoReid)"
   ]
  },
  {
   "cell_type": "code",
   "execution_count": 19,
   "metadata": {},
   "outputs": [
    {
     "data": {
      "text/plain": [
       "235.03376988000002"
      ]
     },
     "execution_count": 19,
     "metadata": {},
     "output_type": "execute_result"
    }
   ],
   "source": [
    "#Compute VLSR using GRAVITY value for Ro\n",
    "VLSR(RoGRAV)"
   ]
  },
  {
   "cell_type": "code",
   "execution_count": 20,
   "metadata": {},
   "outputs": [
    {
     "data": {
      "text/plain": [
       "226.628034"
      ]
     },
     "execution_count": 20,
     "metadata": {},
     "output_type": "execute_result"
    }
   ],
   "source": [
    "#Compute VLSR using Spark & Gallagher textbook value for Ro\n",
    "VLSR(RoSG)"
   ]
  },
  {
   "cell_type": "markdown",
   "metadata": {},
   "source": [
    "### b)\n",
    "\n",
    "compute the orbital period of the sun using R$_o$ from the GRAVITY Collaboration (assume circular orbit)\n",
    "\n",
    "Note that 1 km/s $\\sim$ 1kpc/Gyr"
   ]
  },
  {
   "cell_type": "code",
   "execution_count": 26,
   "metadata": {},
   "outputs": [
    {
     "name": "stdout",
     "output_type": "stream",
     "text": [
      "0.20780161788713317\n"
     ]
    }
   ],
   "source": [
    "#computing orbital periodof sun around galactic center using Ro from GRAVITY collab\n",
    "#T = 2*pi*R/vlsr # units of kpc/(km/s) ~ kpc/(kpc/Gyr) ~ Gyr\n",
    "vtan = VLSR(RoGRAV) + 12.24 \n",
    "T_Grav = 2*np.pi*RoGRAV/vtan\n",
    "print(T_Grav)"
   ]
  },
  {
   "cell_type": "markdown",
   "metadata": {},
   "source": [
    "### c)\n",
    "\n",
    "Compute the number of rotations about the GC over the age of the universe (13.8 Gyr)"
   ]
  },
  {
   "cell_type": "code",
   "execution_count": 28,
   "metadata": {},
   "outputs": [
    {
     "name": "stdout",
     "output_type": "stream",
     "text": [
      "66.40949257428511\n"
     ]
    }
   ],
   "source": [
    "#find number of rotations about galactic center over age of the universe\n",
    "#Age of Universe / Period #universe is 13.8 GYr\n",
    "print(13.8/ T_Grav)"
   ]
  },
  {
   "cell_type": "markdown",
   "metadata": {},
   "source": [
    "## Part B  Dark Matter Density Profiles\n",
    "\n",
    "### a)\n",
    "Try out Fitting Rotation Curves \n",
    "[here](http://wittman.physics.ucdavis.edu/Animations/RotationCurve/GalacticRotation.html)\n",
    "\n",
    "\n",
    "### b)\n",
    "\n",
    "In the Isothermal Sphere model, what is the mass enclosed within the solar radius (R$_o$) in units of $10^{10}$ M$_\\odot$? \n",
    "\n",
    "Recall that for the Isothermal sphere :\n",
    "$\\rho(r) = \\frac{V_{LSR}^2}{4\\pi G r^2}$\n",
    "\n",
    "Where $G$ = 4.4988e-6 kpc$^3$/Gyr$^2$/M$_\\odot$\n",
    "\n",
    "What about at 260 kpc (in units of 10$^{12}$ M$_\\odot$) ? "
   ]
  },
  {
   "cell_type": "code",
   "execution_count": 38,
   "metadata": {},
   "outputs": [],
   "source": [
    "# best values were 80e9 solar masses of stellar material, 12e10 solar masses of dark matter, nil for point mass.\n",
    "#Gravitational Constant \n",
    "G = 4.4988e-6 # kpc3/Gyr2/Msun\n",
    "#Compute mass enclosed inr adisu assuming isothermal sphere model\n",
    "# Density Profile rho = VLSR^2/(4*np.pi*G*R^2) \n",
    "# Mass = Integrate rho dV \n",
    "    #Integrate rho 4*pi*r^2dr\n",
    "    #Integrate VLSR^2 / (4*np.pi*G*r^2) * 4*np.pi*r^2 dr\n",
    "    #Integrate VLSR^2/G dr = VLSR^2/G * r \n",
    "#function will compute mass enclosed within given radius \n",
    "def MassIso(r, VLSR=VLSR(RoGRAV)):\n",
    "    #Inputs:\n",
    "        #VLSR is local standard of rest in km/s; using default from GRAVITY collab Ro (above) \n",
    "        #r is distance from galactic center in kpc\n",
    "    #returns: mass enclosed in solar masses\n",
    "    return VLSR**2/G*r "
   ]
  },
  {
   "cell_type": "code",
   "execution_count": 37,
   "metadata": {},
   "outputs": [
    {
     "name": "stdout",
     "output_type": "stream",
     "text": [
      "10.04178579317132\n"
     ]
    }
   ],
   "source": [
    "#compute enclosed radius within Ro , solar radius from gal center\n",
    "MIsoSolar = MassIso(RoGRAV)\n",
    "print(MIsoSolar/1e10) #units of 1e10 Msun"
   ]
  },
  {
   "cell_type": "code",
   "execution_count": 39,
   "metadata": {},
   "outputs": [
    {
     "name": "stdout",
     "output_type": "stream",
     "text": [
      "319.25462291813926\n"
     ]
    }
   ],
   "source": [
    "#Compute mass enclosed in 260 kpc \n",
    "MIso260 = MassIso(260)\n",
    "print(MIso260/1e10)"
   ]
  },
  {
   "cell_type": "markdown",
   "metadata": {},
   "source": [
    "## c) \n",
    "\n",
    "The Leo I satellite is one of the fastest moving satellite galaxies we know. \n",
    "\n",
    "\n",
    "It is moving with 3D velocity of magnitude: Vtot = 196 km/s at a distance of 260 kpc (Sohn 2013 ApJ 768)\n",
    "\n",
    "If we assume that Leo I is moving at the escape speed:\n",
    "\n",
    "$v_{esc}^2 = 2|\\Phi| = 2 \\int G \\frac{\\rho(r)}{r}dV $ \n",
    "\n",
    "and assuming the Milky Way is well modeled by a Hernquist Sphere with a scale radius of $a$= 30 kpc, what is the minimum mass of the Milky Way (in units of $10^{12}$ M$_\\odot$) ?  \n",
    "\n",
    "How does this compare to estimates of the mass assuming the Isothermal Sphere model at 260 kpc (from your answer above)"
   ]
  },
  {
   "cell_type": "code",
   "execution_count": 46,
   "metadata": {},
   "outputs": [],
   "source": [
    "#potential for Hernquist Sphere:\n",
    "    #Phi = - G*M/(r+a)\n",
    "\n",
    "#Using Hernquist Potential, equation for the escape speed velocity:\n",
    "    #vesc^2 = 2*G*M/(r+a)\n",
    "\n",
    "#Rearranging the escape equation for M\n",
    "    #M = vesc^2 * (r+a)/2/G\n",
    "    #  = 196^2 *(260+30)/2/G\n",
    "\n",
    "#Function that will determine the total halo mass needed to set a given escape velocity at a given distance\n",
    "#assuming Hernquist profile of dark matter halo\n",
    "\n",
    "def MassfromVesc(vesc,a,r):\n",
    "    #Inputs:\n",
    "        #vesc is escape speed in km/s (or speed of satellite)\n",
    "        #r is distance from galactic center in kpc\n",
    "        #a is Hernquist scale length in kpc\n",
    "    #returns total mass in Msun\n",
    "    return vesc**2*(r+a)/2/G"
   ]
  },
  {
   "cell_type": "code",
   "execution_count": 47,
   "metadata": {},
   "outputs": [
    {
     "name": "stdout",
     "output_type": "stream",
     "text": [
      "1.2381790699742152\n"
     ]
    }
   ],
   "source": [
    "#Mass needed to bind Leo I bound assuming Hernquist profile\n",
    "MLeoI = MassfromVesc(196,30,260)\n",
    "print (MLeoI/1e12)"
   ]
  },
  {
   "cell_type": "code",
   "execution_count": 48,
   "metadata": {},
   "outputs": [
    {
     "name": "stdout",
     "output_type": "stream",
     "text": [
      "2.5784204454755293\n"
     ]
    }
   ],
   "source": [
    "#compare to Isothermal Sphere model\n",
    "print (MIso260/MLeoI)"
   ]
  },
  {
   "cell_type": "code",
   "execution_count": null,
   "metadata": {},
   "outputs": [],
   "source": []
  }
 ],
 "metadata": {
  "kernelspec": {
   "display_name": "Python 3",
   "language": "python",
   "name": "python3"
  },
  "language_info": {
   "codemirror_mode": {
    "name": "ipython",
    "version": 3
   },
   "file_extension": ".py",
   "mimetype": "text/x-python",
   "name": "python",
   "nbconvert_exporter": "python",
   "pygments_lexer": "ipython3",
   "version": "3.7.4"
  }
 },
 "nbformat": 4,
 "nbformat_minor": 2
}
